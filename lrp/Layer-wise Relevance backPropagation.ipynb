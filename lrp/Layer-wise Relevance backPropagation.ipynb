{
 "cells": [
  {
   "cell_type": "markdown",
   "metadata": {},
   "source": [
    "# Library\n"
   ]
  },
  {
   "cell_type": "code",
   "execution_count": 8,
   "metadata": {
    "scrolled": true
   },
   "outputs": [],
   "source": [
    "import pandas as pd\n",
    "import numpy as np\n",
    "import tensorflow as tf\n",
    "\n",
    "import matplotlib.pyplot as plt\n",
    "from tensorflow.keras.datasets import mnist  # 라이브러리가 기본으로 제공하는 mnist 데이터셋\n",
    "from tensorflow.keras.utils import to_categorical  # one-hot encoding 을 위한 함수\n",
    "from tensorflow.keras.models import Sequential  # 레이어를 층층히 쌓아가는 연쇄 모델\n",
    "from tensorflow.keras.layers import Dense\n",
    "from tensorflow.keras.models import load_model  "
   ]
  },
  {
   "cell_type": "markdown",
   "metadata": {},
   "source": [
    "# Data load"
   ]
  },
  {
   "cell_type": "code",
   "execution_count": 36,
   "metadata": {},
   "outputs": [
    {
     "name": "stdout",
     "output_type": "stream",
     "text": [
      "[shape] train: (50000, 28, 28) \n",
      "[shape] test: (10000, 28, 28) \n",
      "[shape] valid: (10000, 28, 28) \n"
     ]
    },
    {
     "data": {
      "text/plain": [
       "<matplotlib.image.AxesImage at 0x7fda901f67b8>"
      ]
     },
     "execution_count": 36,
     "metadata": {},
     "output_type": "execute_result"
    },
    {
     "data": {
      "image/png": "[encoded data removed]",
      "text/plain": [
       "<Figure size 432x288 with 1 Axes>"
      ]
     },
     "metadata": {
      "needs_background": "light"
     },
     "output_type": "display_data"
    }
   ],
   "source": [
    "(x_train_, y_train_), (x_valid_, y_valid_) = mnist.load_data()\n",
    "x_test_, y_test_ = x_train_[50000:], y_train_[50000:]\n",
    "x_train_,y_train_ = x_train_[:50000], y_train_[:50000]\n",
    "\n",
    "print(f'[shape] train: {x_train_.shape} ')\n",
    "print(f'[shape] test: {x_test_.shape} ')\n",
    "print(f'[shape] valid: {x_valid_.shape} ')\n",
    "\n",
    "plt.imshow(x_train_[0])"
   ]
  },
  {
   "cell_type": "code",
   "execution_count": null,
   "metadata": {},
   "outputs": [],
   "source": [
    "## preprocessing"
   ]
  },
  {
   "cell_type": "code",
   "execution_count": 37,
   "metadata": {},
   "outputs": [
    {
     "name": "stdout",
     "output_type": "stream",
     "text": [
      "[shape] before train: (50000, 28, 28) \n",
      "[shape] after train: (50000, 784) \n"
     ]
    }
   ],
   "source": [
    "input_shape = x_train_.shape[1]*x_train_.shape[2]\n",
    "class_num = len(set(y_train_))\n",
    "\n",
    "x_train = (x_train_/255.0).reshape(-1, input_shape)\n",
    "x_test = (x_test_/255.0).reshape(-1, input_shape)\n",
    "x_valid = (x_valid_/255.0).reshape(-1, input_shape)\n",
    "\n",
    "print(f'[shape] before train: {x_train_.shape} ')\n",
    "print(f'[shape] after train: {x_train.shape} ')\n"
   ]
  },
  {
   "cell_type": "code",
   "execution_count": 38,
   "metadata": {
    "scrolled": true
   },
   "outputs": [
    {
     "name": "stdout",
     "output_type": "stream",
     "text": [
      "[example] before train: 0 \n",
      "[example] after train: [1. 0. 0. 0. 0. 0. 0. 0. 0. 0.] \n"
     ]
    }
   ],
   "source": [
    "# one-hot encoding\n",
    "I = np.eye(10)\n",
    "\n",
    "y_train = I[y_train_]\n",
    "y_test = I[y_test_]\n",
    "y_valid = I[y_valid_]\n",
    "\n",
    "print(f'[example] before train: {y_train_[1]} ')\n",
    "print(f'[example] after train: {y_train[1]} ')\n"
   ]
  },
  {
   "cell_type": "code",
   "execution_count": 19,
   "metadata": {},
   "outputs": [],
   "source": [
    "dataloader = MNISTLoader()\n",
    "\t\t\n",
    "x_train, y_train = dataloader.train\n",
    "x_validation, y_validation = dataloader.validation"
   ]
  },
  {
   "cell_type": "markdown",
   "metadata": {},
   "source": [
    "# base Model"
   ]
  },
  {
   "cell_type": "code",
   "execution_count": 39,
   "metadata": {},
   "outputs": [],
   "source": [
    "# -------------------------\n",
    "# Feed-forward network\n",
    "# -------------------------\n",
    "class Network:\n",
    "    def __init__(self,layers):\n",
    "        self.layers = layers\n",
    "    \n",
    "    def forward(self,Z):\n",
    "        for l in self.layers: Z = l.forward(Z)\n",
    "        return Z\n",
    "    \n",
    "    def gradprop(self,DZ):\n",
    "        for l in self.layers[::-1]: DZ = l.gradprop(DZ)\n",
    "        return DZ\n",
    "    \n",
    "    def relprop(self, R):\n",
    "        for I in self.layers[::-1]: R = I.relprop(R)\n",
    "        return R\n",
    "\n",
    "# -------------------------\n",
    "# ReLU activation layer\n",
    "# -------------------------\n",
    "class ReLU:\n",
    "    def forward(self,X):\n",
    "        self.Z = X>0\n",
    "        return X*self.Z\n",
    "    \n",
    "    def gradprop(self,DY):\n",
    "        return DY*self.Z\n",
    "    \n",
    "    def relprop(self, R): \n",
    "        return R\n",
    "    \n",
    "# -------------------------\n",
    "# Fully-connected layer\n",
    "# -------------------------\n",
    "class Linear:\n",
    "\n",
    "    def __init__(self, weight, bias):\n",
    "        self.W = weight\n",
    "        self.B = bias\n",
    "\n",
    "    def forward(self,X):\n",
    "        self.X = X\n",
    "        return np.dot(self.X,self.W)+self.B\n",
    "\n",
    "    def gradprop(self,DY):\n",
    "        self.DY = DY # DY는 target을 넣으면 됨. Desired Y\n",
    "        return np.dot(self.DY,self.W.T)\n",
    "\n",
    "class NextLinear(Linear): # implementing Z+ rule\n",
    "    def relprop(self,R):\n",
    "        V = np.maximum(0,self.W) # V는 W_ij^+를 의미함.\n",
    "        Z = np.dot(self.X,V)+1e-9; S = R/Z\n",
    "        C = np.dot(S,V.T);         R = self.X*C\n",
    "        return R\n",
    "    \n",
    "class FirstLinear(Linear): # implementing Zbeta rule\n",
    "    def relprop(self,R):\n",
    "        W,V,U = self.W,np.maximum(0,self.W),np.minimum(0,self.W)\n",
    "#        X,L,H = self.X,self.X*0+utils.lowest,self.X*0+utils.highest\n",
    "        X,L,H = self.X,self.X*0+(-1),self.X*0+(1.0)\n",
    "\n",
    "\n",
    "        Z = np.dot(X,W)-np.dot(L,V)-np.dot(H,U)+1e-9; S = R/Z\n",
    "        R = X*np.dot(S,W.T)-L*np.dot(S,V.T)-H*np.dot(S,U.T)\n",
    "        return R"
   ]
  },
  {
   "cell_type": "markdown",
   "metadata": {},
   "source": [
    "## 참고용"
   ]
  },
  {
   "cell_type": "code",
   "execution_count": 3,
   "metadata": {},
   "outputs": [
    {
     "ename": "NameError",
     "evalue": "name 'final_W1' is not defined",
     "output_type": "error",
     "traceback": [
      "\u001b[0;31m---------------------------------------------------------------------------\u001b[0m",
      "\u001b[0;31mNameError\u001b[0m                                 Traceback (most recent call last)",
      "\u001b[0;32m<ipython-input-3-a0950cc964e0>\u001b[0m in \u001b[0;36m<module>\u001b[0;34m\u001b[0m\n\u001b[1;32m     70\u001b[0m \u001b[0;31m# Network 구조 입력\u001b[0m\u001b[0;34m\u001b[0m\u001b[0;34m\u001b[0m\u001b[0;34m\u001b[0m\u001b[0m\n\u001b[1;32m     71\u001b[0m nn = Network([\n\u001b[0;32m---> 72\u001b[0;31m     \u001b[0mFirstLinear\u001b[0m\u001b[0;34m(\u001b[0m\u001b[0mfinal_W1\u001b[0m\u001b[0;34m,\u001b[0m \u001b[0mfinal_b1\u001b[0m\u001b[0;34m)\u001b[0m\u001b[0;34m,\u001b[0m\u001b[0mReLU\u001b[0m\u001b[0;34m(\u001b[0m\u001b[0;34m)\u001b[0m\u001b[0;34m,\u001b[0m\u001b[0;34m\u001b[0m\u001b[0;34m\u001b[0m\u001b[0m\n\u001b[0m\u001b[1;32m     73\u001b[0m     \u001b[0mNextLinear\u001b[0m\u001b[0;34m(\u001b[0m\u001b[0mfinal_W2\u001b[0m\u001b[0;34m,\u001b[0m \u001b[0mfinal_b2\u001b[0m\u001b[0;34m)\u001b[0m\u001b[0;34m,\u001b[0m\u001b[0mReLU\u001b[0m\u001b[0;34m(\u001b[0m\u001b[0;34m)\u001b[0m\u001b[0;34m,\u001b[0m\u001b[0;34m\u001b[0m\u001b[0;34m\u001b[0m\u001b[0m\n\u001b[1;32m     74\u001b[0m     \u001b[0mNextLinear\u001b[0m\u001b[0;34m(\u001b[0m\u001b[0mfinal_W3\u001b[0m\u001b[0;34m,\u001b[0m \u001b[0mfinal_b3\u001b[0m\u001b[0;34m)\u001b[0m\u001b[0;34m,\u001b[0m\u001b[0mReLU\u001b[0m\u001b[0;34m(\u001b[0m\u001b[0;34m)\u001b[0m\u001b[0;34m,\u001b[0m\u001b[0;34m\u001b[0m\u001b[0;34m\u001b[0m\u001b[0m\n",
      "\u001b[0;31mNameError\u001b[0m: name 'final_W1' is not defined"
     ]
    }
   ],
   "source": [
    "# -------------------------\n",
    "# Feed-forward network\n",
    "# -------------------------\n",
    "class Network:\n",
    "    def __init__(self,layers):\n",
    "        self.layers = layers\n",
    "    \n",
    "    def forward(self,Z):\n",
    "        for l in self.layers: Z = l.forward(Z)\n",
    "        return Z\n",
    "    \n",
    "    def gradprop(self,DZ):\n",
    "        for l in self.layers[::-1]: DZ = l.gradprop(DZ)\n",
    "        return DZ\n",
    "    \n",
    "    def relprop(self, R):\n",
    "        for I in self.layers[::-1]: R = I.relprop(R)\n",
    "        return R\n",
    "\n",
    "# -------------------------\n",
    "# ReLU activation layer\n",
    "# -------------------------\n",
    "class ReLU:\n",
    "    def forward(self,X):\n",
    "        self.Z = X>0\n",
    "        return X*self.Z\n",
    "    \n",
    "    def gradprop(self,DY):\n",
    "        return DY*self.Z\n",
    "    \n",
    "    def relprop(self, R): \n",
    "        return R\n",
    "    \n",
    "# -------------------------\n",
    "# Fully-connected layer\n",
    "# -------------------------\n",
    "class Linear:\n",
    "\n",
    "  def __init__(self, weight, bias):\n",
    "    self.W = weight\n",
    "    self.B = bias\n",
    "\n",
    "  def forward(self,X):\n",
    "    self.X = X\n",
    "    return np.dot(self.X,self.W)+self.B\n",
    "\n",
    "  def gradprop(self,DY):\n",
    "    self.DY = DY # DY는 target을 넣으면 됨. Desired Y\n",
    "    return np.dot(self.DY,self.W.T)\n",
    "\n",
    "\n",
    "class NextLinear(Linear): # implementing Z+ rule\n",
    "    def relprop(self,R):\n",
    "        V = np.maximum(0,self.W) # V는 W_ij^+를 의미함.\n",
    "        Z = np.dot(self.X,V)+1e-9; S = R/Z\n",
    "        C = np.dot(S,V.T);         R = self.X*C\n",
    "        return R\n",
    "    \n",
    "class FirstLinear(Linear): # implementing Zbeta rule\n",
    "    def relprop(self,R):\n",
    "        W,V,U = self.W,np.maximum(0,self.W),np.minimum(0,self.W)\n",
    "#        X,L,H = self.X,self.X*0+utils.lowest,self.X*0+utils.highest\n",
    "        X,L,H = self.X,self.X*0+(-1),self.X*0+(1.0)\n",
    "\n",
    "\n",
    "        Z = np.dot(X,W)-np.dot(L,V)-np.dot(H,U)+1e-9; S = R/Z\n",
    "        R = X*np.dot(S,W.T)-L*np.dot(S,V.T)-H*np.dot(S,U.T)\n",
    "        return R\n",
    "\n",
    "# Network 구조 입력\n",
    "nn = Network([\n",
    "    FirstLinear(final_W1, final_b1),ReLU(),\n",
    "    NextLinear(final_W2, final_b2),ReLU(),\n",
    "    NextLinear(final_W3, final_b3),ReLU(),\n",
    "    NextLinear(final_W4, final_b4),ReLU(),\n",
    "    NextLinear(final_Wh, final_bh),ReLU(),\n",
    "])\n",
    "\n",
    "rand_num = np.random.permutation(n_total)\n",
    "\n",
    "X = total_x[rand_num,:] # Input\n",
    "T = total_y[rand_num,:] # Target\n",
    "Y = nn.forward(X) # Output\n",
    "S = nn.gradprop(T)**2\n",
    "Y = nn.forward(X)\n",
    "\n",
    "D = nn.relprop(Y*T)"
   ]
  }
 ],
 "metadata": {
  "kernelspec": {
   "display_name": "Python 3",
   "language": "python",
   "name": "python3"
  },
  "language_info": {
   "codemirror_mode": {
    "name": "ipython",
    "version": 3
   },
   "file_extension": ".py",
   "mimetype": "text/x-python",
   "name": "python",
   "nbconvert_exporter": "python",
   "pygments_lexer": "ipython3",
   "version": "3.6.8"
  },
  "toc": {
   "base_numbering": 1,
   "nav_menu": {},
   "number_sections": true,
   "sideBar": true,
   "skip_h1_title": false,
   "title_cell": "Table of Contents",
   "title_sidebar": "Contents",
   "toc_cell": false,
   "toc_position": {},
   "toc_section_display": true,
   "toc_window_display": true
  },
  "varInspector": {
   "cols": {
    "lenName": 16,
    "lenType": 16,
    "lenVar": 40
   },
   "kernels_config": {
    "python": {
     "delete_cmd_postfix": "",
     "delete_cmd_prefix": "del ",
     "library": "var_list.py",
     "varRefreshCmd": "print(var_dic_list())"
    },
    "r": {
     "delete_cmd_postfix": ") ",
     "delete_cmd_prefix": "rm(",
     "library": "var_list.r",
     "varRefreshCmd": "cat(var_dic_list()) "
    }
   },
   "types_to_exclude": [
    "module",
    "function",
    "builtin_function_or_method",
    "instance",
    "_Feature"
   ],
   "window_display": false
  }
 },
 "nbformat": 4,
 "nbformat_minor": 4
}
